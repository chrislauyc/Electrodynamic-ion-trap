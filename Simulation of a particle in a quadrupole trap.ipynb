{
 "cells": [
  {
   "cell_type": "code",
   "execution_count": 30,
   "metadata": {},
   "outputs": [
    {
     "data": {
      "application/vnd.jupyter.widget-view+json": {
       "model_id": "0b7257e56b534c6785054323b96b2e5f",
       "version_major": 2,
       "version_minor": 0
      },
      "text/plain": [
       "interactive(children=(Checkbox(value=False, description='start_simulation'), Output()), _dom_classes=('widget-…"
      ]
     },
     "metadata": {},
     "output_type": "display_data"
    }
   ],
   "source": [
    "#a simulation of a particle in a quadrupolar field \n",
    "import math\n",
    "import numpy as np\n",
    "from mpl_toolkits.mplot3d import Axes3D\n",
    "from IPython import display\n",
    "import time\n",
    "import matplotlib.pyplot as plt\n",
    "\n",
    "\n",
    "def run_sim(start_simulation):\n",
    "    if start_simulation == True:\n",
    "        fig = plt.figure()\n",
    "        ax = fig.add_subplot(111, projection='3d')\n",
    "        x = np.linspace(-5,5,10)\n",
    "        Xv, Yv = np.meshgrid(x,x)\n",
    "        t = 0 #initial time\n",
    "\n",
    "        Vo = 100.#potential\n",
    "        q = 30 #charge\n",
    "        m = 1.0E6 #mass\n",
    "        zo = 0.00296 #geometric parameter\n",
    "        Omeg = 2*math.pi*1000 #trap frequency\n",
    "\n",
    "        f = 0.01 #friction\n",
    "\n",
    "        z0 = 0 #initial z position\n",
    "        z1 = 0.2 #next z position\n",
    "\n",
    "        r0 = 0 #inital r position\n",
    "        r1 = 0.2 #next r position\n",
    "\n",
    "        dt = 0.0001 #time increment\n",
    "        for i in range(100):\n",
    "            v = Vo*math.cos(Omeg*t) #calculate the potential at the moment\n",
    "            #numerically solve for the next positions of the particle      \n",
    "            z2 = (-2*Vo*q*math.cos(Omeg*t)*z1/zo**2-f)*(dt*2/m)+2*z1-z0\n",
    "            r2 = (Vo*q*math.cos(Omeg*t)*r1/zo**2-f)*(dt*2/m)+2*r1-r0\n",
    "            vp = v*(2*z1**2-r1**2)/2/0.00296**2 #determine the potential at z1 r1\n",
    "\n",
    "            ax.clear()\n",
    "\n",
    "\n",
    "\n",
    "            v_paul = v*(2*Xv**2-Yv**2)/2/0.00296**2 #calculate the field\n",
    "\n",
    "            ax.plot_wireframe(Xv,Yv,v_paul) #plot field\n",
    "            ax.scatter(z1,r1,vp, s=90,c='r') #plot particle\n",
    "            ax.set_xlim(-5,5)\n",
    "            ax.set_ylim(-5,5)\n",
    "            ax.set_zlim(-5.0E8,5.0E8)\n",
    "            ax.set_xlabel('Axial direction, z')\n",
    "            ax.set_ylabel('Radial direction, r')\n",
    "            ax.set_zlabel('Electric potential')\n",
    "            ax.set_title('Particle in a quadrupolar field')\n",
    "            t += dt #increment time\n",
    "            display.display(plt.gcf())\n",
    "            display.clear_output(wait=True)\n",
    "            #update positions\n",
    "            z0 = z1 \n",
    "            z1 = z2\n",
    "            r0 = r1\n",
    "            r1 = r2\n",
    "    return\n",
    "\n",
    "import ipywidgets as widgets\n",
    "widgets.interact(run_sim, start_simulation=False);\n",
    "\n"
   ]
  }
 ],
 "metadata": {
  "kernelspec": {
   "display_name": "Python 3",
   "language": "python",
   "name": "python3"
  },
  "language_info": {
   "codemirror_mode": {
    "name": "ipython",
    "version": 3
   },
   "file_extension": ".py",
   "mimetype": "text/x-python",
   "name": "python",
   "nbconvert_exporter": "python",
   "pygments_lexer": "ipython3",
   "version": "3.6.5"
  }
 },
 "nbformat": 4,
 "nbformat_minor": 2
}
